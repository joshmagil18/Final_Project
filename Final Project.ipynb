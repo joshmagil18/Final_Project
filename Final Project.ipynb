{
 "cells": [
  {
   "cell_type": "code",
   "execution_count": 2,
   "id": "0593f331",
   "metadata": {},
   "outputs": [
    {
     "name": "stdout",
     "output_type": "stream",
     "text": [
      "usage: conda [-h] [-V] command ...\n",
      "conda: error: unrecognized arguments: --prefix/Users/joshmagil18/opt/anaconda3\n",
      "<Worksheet \"Sheet1\">\n"
     ]
    }
   ],
   "source": [
    "import sys\n",
    "\n",
    "!conda install --yes --prefix{sys.prefix} openpyxl\n",
    "\n",
    "from openpyxl import load_workbook\n",
    "\n",
    "wb=load_workbook(r\"/Users/joshmagil18/Downloads/Buffalo.xlsx\")\n",
    "ws=wb.active \n",
    "print(ws)"
   ]
  },
  {
   "cell_type": "code",
   "execution_count": 143,
   "id": "53fbae83",
   "metadata": {},
   "outputs": [
    {
     "name": "stdout",
     "output_type": "stream",
     "text": [
      "     SEASON  JUL  AUG SEP  OCT   NOV   DEC   JAN   FEB   MAR  APR  MAY  JUN  \\\n",
      "0   1940-41    0    0   0    T  17.5  12.1  17.3  23.1   9.3    T    0  0.0   \n",
      "1   1941-42    0    0   0    T     5   7.8  31.0  28.0  13.7  4.1    0  0.0   \n",
      "2   1942-43    0    0   0    T   8.7  26.7  16.9  17.7  10.4  5.1    T  0.0   \n",
      "3   1943-44    0    0   0  1.5  13.6   1.7   3.4  24.6  10.5  2.7    0  0.0   \n",
      "4   1944-45    0    0   0    0   3.9  35.1  50.6  23.3   5.8    T    2  0.0   \n",
      "..      ...  ...  ...  ..  ...   ...   ...   ...   ...   ...  ...  ...  ...   \n",
      "77  2017-18    0    0   0  0.1   0.1  33.7  31.2  18.1  22.2  6.9    0  0.0   \n",
      "78  2018-19    0    0   0  0.1  13.4  14.1  63.4  16.8  10.5  0.5    0  0.0   \n",
      "79  2019-20    0    0   0    0  12.6  16.1  13.2  20.6   2.1  4.3  0.3  0.0   \n",
      "80  2020-21    0    0   0    T   0.8  33.0  10.2  27.5   0.6  5.1    T  0.0   \n",
      "81  2021-22    0    0   0    0     5   5.7  52.1  23.1   9.3  0.8  NaN  NaN   \n",
      "\n",
      "    ANNUAL  \n",
      "0     79.3  \n",
      "1     89.6  \n",
      "2     85.5  \n",
      "3     58.0  \n",
      "4    120.7  \n",
      "..     ...  \n",
      "77   112.3  \n",
      "78   118.8  \n",
      "79    69.2  \n",
      "80    77.2  \n",
      "81    96.0  \n",
      "\n",
      "[82 rows x 14 columns]\n"
     ]
    }
   ],
   "source": [
    "df = pd.read_excel(r\"/Users/joshmagil18/Downloads/Buffalo.xlsx\")\n",
    "print(df)"
   ]
  },
  {
   "cell_type": "code",
   "execution_count": 127,
   "id": "e72515d1",
   "metadata": {},
   "outputs": [
    {
     "name": "stdout",
     "output_type": "stream",
     "text": [
      "     SEASON  JUL  AUG  SEP   OCT   NOV   DEC   JAN   FEB   MAR   APR   MAY  \\\n",
      "0   1940-41    0    0  0.0  0.05  17.5  12.1  17.3  23.1   9.3  0.05  0.00   \n",
      "1   1941-42    0    0  0.0  0.05   5.0   7.8  31.0  28.0  13.7  4.10  0.00   \n",
      "2   1942-43    0    0  0.0  0.05   8.7  26.7  16.9  17.7  10.4  5.10  0.05   \n",
      "3   1943-44    0    0  0.0  1.50  13.6   1.7   3.4  24.6  10.5  2.70  0.00   \n",
      "4   1944-45    0    0  0.0  0.00   3.9  35.1  50.6  23.3   5.8  0.05  2.00   \n",
      "..      ...  ...  ...  ...   ...   ...   ...   ...   ...   ...   ...   ...   \n",
      "77  2017-18    0    0  0.0  0.10   0.1  33.7  31.2  18.1  22.2  6.90  0.00   \n",
      "78  2018-19    0    0  0.0  0.10  13.4  14.1  63.4  16.8  10.5  0.50  0.00   \n",
      "79  2019-20    0    0  0.0  0.00  12.6  16.1  13.2  20.6   2.1  4.30  0.30   \n",
      "80  2020-21    0    0  0.0  0.05   0.8  33.0  10.2  27.5   0.6  5.10  0.05   \n",
      "81  2021-22    0    0  0.0  0.00   5.0   5.7  52.1  23.1   9.3  0.80  0.00   \n",
      "\n",
      "    JUN  ANNUAL  \n",
      "0     0    79.3  \n",
      "1     0    89.6  \n",
      "2     0    85.5  \n",
      "3     0    58.0  \n",
      "4     0   120.7  \n",
      "..  ...     ...  \n",
      "77    0   112.3  \n",
      "78    0   118.8  \n",
      "79    0    69.2  \n",
      "80    0    77.2  \n",
      "81    0    96.0  \n",
      "\n",
      "[82 rows x 14 columns]\n"
     ]
    }
   ],
   "source": [
    "import pandas as pd\n",
    "import numpy as np\n",
    "\n",
    "db = pd.read_excel(r\"/Users/joshmagil18/Downloads/Buffalo Cleaned 1.xlsx\")\n",
    "print(db)"
   ]
  },
  {
   "cell_type": "code",
   "execution_count": 164,
   "id": "e837c45d",
   "metadata": {},
   "outputs": [
    {
     "name": "stdout",
     "output_type": "stream",
     "text": [
      "\n",
      "\n",
      " JUL: \n",
      "_____ \n",
      "\n",
      "1940:   0\n",
      "1941:   0\n",
      "1942:   0\n",
      "1943:   0\n",
      "1944:   0\n",
      "1945:   0\n",
      "1946:   0\n",
      "1947:   0\n",
      "1948:   0\n",
      "1949:   0\n",
      "1950:   0\n",
      "1951:   0\n",
      "1952:   0\n",
      "1953:   0\n",
      "1954:   0\n",
      "1955:   0\n",
      "1956:   0\n",
      "1957:   0\n",
      "1958:   0\n",
      "1959:   0\n",
      "1960:   0\n",
      "1961:   0\n",
      "1962:   0\n",
      "1963:   0\n",
      "1964:   0\n",
      "1965:   0\n",
      "1966:   0\n",
      "1967:   0\n",
      "1968:   0\n",
      "1969:   0\n",
      "1970:   0\n",
      "1971:   0\n",
      "1972:   0\n",
      "1973:   0\n",
      "1974:   0\n",
      "1975:   0\n",
      "1976:   0\n",
      "1977:   0\n",
      "1978:   0\n",
      "1979:   0\n",
      "1980:   0\n",
      "1981:   0\n",
      "1982:   0\n",
      "1983:   0\n",
      "1984:   0\n",
      "1985:   0\n",
      "1986:   0\n",
      "1987:   0\n",
      "1988:   0\n",
      "1989:   0\n",
      "1990:   0\n",
      "1991:   0\n",
      "1992:   0\n",
      "1993:   0\n",
      "1994:   0\n",
      "1995:   0\n",
      "1996:   0\n",
      "1997:   0\n",
      "1998:   0\n",
      "1999:   0\n",
      "2000:   0\n",
      "2001:   0\n",
      "2002:   0\n",
      "2003:   0\n",
      "2004:   0\n",
      "2005:   0\n",
      "2006:   0\n",
      "2007:   0\n",
      "2008:   0\n",
      "2009:   0\n",
      "2010:   0\n",
      "2011:   0\n",
      "2012:   0\n",
      "2013:   0\n",
      "2014:   0\n",
      "2015:   0\n",
      "2016:   0\n",
      "2017:   0\n",
      "2018:   0\n",
      "2019:   0\n",
      "2020:   0\n",
      "2021:   0\n",
      "\n",
      "\n",
      "JUL minimum snowfall: 0 inches of snow.\n",
      "\n",
      "\n",
      "JUL maximum snowfall: 0 inches of snow.\n",
      "\n",
      "\n",
      " AUG: \n",
      "_____ \n",
      "\n",
      "1940:   0\n",
      "1941:   0\n",
      "1942:   0\n",
      "1943:   0\n",
      "1944:   0\n",
      "1945:   0\n",
      "1946:   0\n",
      "1947:   0\n",
      "1948:   0\n",
      "1949:   0\n",
      "1950:   0\n",
      "1951:   0\n",
      "1952:   0\n",
      "1953:   0\n",
      "1954:   0\n",
      "1955:   0\n",
      "1956:   0\n",
      "1957:   0\n",
      "1958:   0\n",
      "1959:   0\n",
      "1960:   0\n",
      "1961:   0\n",
      "1962:   0\n",
      "1963:   0\n",
      "1964:   0\n",
      "1965:   0\n",
      "1966:   0\n",
      "1967:   0\n",
      "1968:   0\n",
      "1969:   0\n",
      "1970:   0\n",
      "1971:   0\n",
      "1972:   0\n",
      "1973:   0\n",
      "1974:   0\n",
      "1975:   0\n",
      "1976:   0\n",
      "1977:   0\n",
      "1978:   0\n",
      "1979:   0\n",
      "1980:   0\n",
      "1981:   0\n",
      "1982:   0\n",
      "1983:   0\n",
      "1984:   0\n",
      "1985:   0\n",
      "1986:   0\n",
      "1987:   0\n",
      "1988:   0\n",
      "1989:   0\n",
      "1990:   0\n",
      "1991:   0\n",
      "1992:   0\n",
      "1993:   0\n",
      "1994:   0\n",
      "1995:   0\n",
      "1996:   0\n",
      "1997:   0\n",
      "1998:   0\n",
      "1999:   0\n",
      "2000:   0\n",
      "2001:   0\n",
      "2002:   0\n",
      "2003:   0\n",
      "2004:   0\n",
      "2005:   0\n",
      "2006:   0\n",
      "2007:   0\n",
      "2008:   0\n",
      "2009:   0\n",
      "2010:   0\n",
      "2011:   0\n",
      "2012:   0\n",
      "2013:   0\n",
      "2014:   0\n",
      "2015:   0\n",
      "2016:   0\n",
      "2017:   0\n",
      "2018:   0\n",
      "2019:   0\n",
      "2020:   0\n",
      "2021:   0\n",
      "\n",
      "\n",
      "AUG minimum snowfall: 0 inches of snow.\n",
      "\n",
      "\n",
      "AUG maximum snowfall: 0 inches of snow.\n",
      "\n",
      "\n",
      " SEP: \n",
      "_____ \n",
      "\n",
      "1940:   0.0\n",
      "1941:   0.0\n",
      "1942:   0.0\n",
      "1943:   0.0\n",
      "1944:   0.0\n",
      "1945:   0.0\n",
      "1946:   0.0\n",
      "1947:   0.0\n",
      "1948:   0.0\n",
      "1949:   0.0\n",
      "1950:   0.05\n",
      "1951:   0.0\n",
      "1952:   0.0\n",
      "1953:   0.0\n",
      "1954:   0.0\n",
      "1955:   0.0\n",
      "1956:   0.05\n",
      "1957:   0.0\n",
      "1958:   0.0\n",
      "1959:   0.0\n",
      "1960:   0.0\n",
      "1961:   0.0\n",
      "1962:   0.0\n",
      "1963:   0.0\n",
      "1964:   0.0\n",
      "1965:   0.0\n",
      "1966:   0.0\n",
      "1967:   0.0\n",
      "1968:   0.0\n",
      "1969:   0.0\n",
      "1970:   0.0\n",
      "1971:   0.0\n",
      "1972:   0.0\n",
      "1973:   0.0\n",
      "1974:   0.0\n",
      "1975:   0.0\n",
      "1976:   0.0\n",
      "1977:   0.0\n",
      "1978:   0.0\n",
      "1979:   0.0\n",
      "1980:   0.0\n",
      "1981:   0.0\n",
      "1982:   0.0\n",
      "1983:   0.0\n",
      "1984:   0.0\n",
      "1985:   0.0\n",
      "1986:   0.0\n",
      "1987:   0.0\n",
      "1988:   0.0\n",
      "1989:   0.0\n",
      "1990:   0.0\n",
      "1991:   0.0\n",
      "1992:   0.0\n",
      "1993:   0.0\n",
      "1994:   0.0\n",
      "1995:   0.0\n",
      "1996:   0.0\n",
      "1997:   0.0\n",
      "1998:   0.0\n",
      "1999:   0.0\n",
      "2000:   0.0\n",
      "2001:   0.0\n",
      "2002:   0.0\n",
      "2003:   0.0\n",
      "2004:   0.0\n",
      "2005:   0.0\n",
      "2006:   0.0\n",
      "2007:   0.0\n",
      "2008:   0.0\n",
      "2009:   0.0\n",
      "2010:   0.0\n",
      "2011:   0.0\n",
      "2012:   0.0\n",
      "2013:   0.0\n",
      "2014:   0.0\n",
      "2015:   0.0\n",
      "2016:   0.0\n",
      "2017:   0.0\n",
      "2018:   0.0\n",
      "2019:   0.0\n",
      "2020:   0.0\n",
      "2021:   0.0\n",
      "\n",
      "\n",
      "SEP minimum snowfall: 0.0 inches of snow.\n",
      "\n",
      "\n",
      "SEP maximum snowfall: 0.05 inches of snow.\n",
      "\n",
      "\n",
      " OCT: \n",
      "_____ \n",
      "\n",
      "1940:   0.05\n",
      "1941:   0.05\n",
      "1942:   0.05\n",
      "1943:   1.5\n",
      "1944:   0.0\n",
      "1945:   0.05\n",
      "1946:   0.0\n",
      "1947:   0.0\n",
      "1948:   0.05\n",
      "1949:   0.0\n",
      "1950:   0.0\n",
      "1951:   0.05\n",
      "1952:   0.4\n",
      "1953:   0.0\n",
      "1954:   1.0\n",
      "1955:   0.05\n",
      "1956:   0.0\n",
      "1957:   0.05\n",
      "1958:   0.0\n",
      "1959:   0.05\n",
      "1960:   1.0\n",
      "1961:   0.05\n",
      "1962:   2.0\n",
      "1963:   0.0\n",
      "1964:   0.05\n",
      "1965:   1.2\n",
      "1966:   0.0\n",
      "1967:   0.05\n",
      "1968:   0.05\n",
      "1969:   1.0\n",
      "1970:   0.0\n",
      "1971:   0.0\n",
      "1972:   3.1\n",
      "1973:   0.0\n",
      "1974:   0.05\n",
      "1975:   0.05\n",
      "1976:   0.2\n",
      "1977:   0.05\n",
      "1978:   0.05\n",
      "1979:   0.05\n",
      "1980:   0.05\n",
      "1981:   0.05\n",
      "1982:   0.0\n",
      "1983:   0.05\n",
      "1984:   0.0\n",
      "1985:   0.0\n",
      "1986:   0.0\n",
      "1987:   0.05\n",
      "1988:   0.5\n",
      "1989:   0.05\n",
      "1990:   0.05\n",
      "1991:   0.2\n",
      "1992:   0.6\n",
      "1993:   2.9\n",
      "1994:   0.0\n",
      "1995:   0.0\n",
      "1996:   0.0\n",
      "1997:   0.2\n",
      "1998:   0.0\n",
      "1999:   0.0\n",
      "2000:   0.05\n",
      "2001:   0.4\n",
      "2002:   0.05\n",
      "2003:   0.05\n",
      "2004:   0.05\n",
      "2005:   0.0\n",
      "2006:   22.6\n",
      "2007:   0.0\n",
      "2008:   0.1\n",
      "2009:   0.05\n",
      "2010:   0.05\n",
      "2011:   0.05\n",
      "2012:   0.0\n",
      "2013:   0.05\n",
      "2014:   0.05\n",
      "2015:   0.05\n",
      "2016:   0.05\n",
      "2017:   0.1\n",
      "2018:   0.1\n",
      "2019:   0.0\n",
      "2020:   0.05\n",
      "2021:   0.0\n",
      "\n",
      "\n",
      "OCT minimum snowfall: 0.0 inches of snow.\n",
      "\n",
      "\n",
      "OCT maximum snowfall: 22.6 inches of snow.\n",
      "\n",
      "\n",
      " NOV: \n",
      "_____ \n",
      "\n",
      "1940:   17.5\n",
      "1941:   5.0\n",
      "1942:   8.7\n",
      "1943:   13.6\n",
      "1944:   3.9\n",
      "1945:   25.2\n",
      "1946:   0.05\n",
      "1947:   9.9\n",
      "1948:   1.3\n",
      "1949:   28.6\n",
      "1950:   15.2\n",
      "1951:   17.7\n",
      "1952:   11.2\n",
      "1953:   22.7\n",
      "1954:   0.7\n",
      "1955:   26.0\n",
      "1956:   16.2\n",
      "1957:   19.2\n",
      "1958:   13.5\n",
      "1959:   12.2\n",
      "1960:   15.9\n",
      "1961:   5.6\n",
      "1962:   2.5\n",
      "1963:   3.1\n",
      "1964:   5.4\n",
      "1965:   12.2\n",
      "1966:   10.0\n",
      "1967:   19.7\n",
      "1968:   11.6\n",
      "1969:   22.1\n",
      "1970:   2.6\n",
      "1971:   18.7\n",
      "1972:   18.9\n",
      "1973:   3.0\n",
      "1974:   22.1\n",
      "1975:   5.5\n",
      "1976:   31.3\n",
      "1977:   15.0\n",
      "1978:   3.0\n",
      "1979:   12.6\n",
      "1980:   6.7\n",
      "1981:   1.8\n",
      "1982:   15.8\n",
      "1983:   17.7\n",
      "1984:   1.4\n",
      "1985:   5.2\n",
      "1986:   13.7\n",
      "1987:   0.9\n",
      "1988:   0.6\n",
      "1989:   7.8\n",
      "1990:   0.7\n",
      "1991:   18.0\n",
      "1992:   13.7\n",
      "1993:   4.8\n",
      "1994:   0.9\n",
      "1995:   15.7\n",
      "1996:   11.5\n",
      "1997:   16.5\n",
      "1998:   0.2\n",
      "1999:   0.9\n",
      "2000:   45.6\n",
      "2001:   0.0\n",
      "2002:   8.9\n",
      "2003:   4.2\n",
      "2004:   0.2\n",
      "2005:   17.9\n",
      "2006:   2.1\n",
      "2007:   3.4\n",
      "2008:   6.2\n",
      "2009:   0.05\n",
      "2010:   1.6\n",
      "2011:   0.05\n",
      "2012:   2.4\n",
      "2013:   10.0\n",
      "2014:   20.5\n",
      "2015:   0.05\n",
      "2016:   0.9\n",
      "2017:   0.1\n",
      "2018:   13.4\n",
      "2019:   12.6\n",
      "2020:   0.8\n",
      "2021:   5.0\n",
      "\n",
      "\n",
      "NOV minimum snowfall: 0.0 inches of snow.\n",
      "\n",
      "\n",
      "NOV maximum snowfall: 45.6 inches of snow.\n",
      "\n",
      "\n",
      " DEC: \n",
      "_____ \n",
      "\n",
      "1940:   12.1\n",
      "1941:   7.8\n",
      "1942:   26.7\n",
      "1943:   1.7\n",
      "1944:   35.1\n",
      "1945:   51.1\n",
      "1946:   11.9\n",
      "1947:   4.3\n",
      "1948:   7.0\n",
      "1949:   9.5\n",
      "1950:   22.3\n",
      "1951:   31.6\n",
      "1952:   16.1\n",
      "1953:   10.9\n",
      "1954:   31.2\n",
      "1955:   20.3\n",
      "1956:   35.6\n",
      "1957:   4.8\n",
      "1958:   19.0\n",
      "1959:   14.2\n",
      "1960:   31.9\n",
      "1961:   30.2\n",
      "1962:   30.2\n",
      "1963:   24.0\n",
      "1964:   15.2\n",
      "1965:   7.0\n",
      "1966:   12.1\n",
      "1967:   10.4\n",
      "1968:   11.7\n",
      "1969:   23.4\n",
      "1970:   32.3\n",
      "1971:   12.9\n",
      "1972:   19.8\n",
      "1973:   23.1\n",
      "1974:   23.6\n",
      "1975:   27.3\n",
      "1976:   60.7\n",
      "1977:   53.4\n",
      "1978:   10.1\n",
      "1979:   19.7\n",
      "1980:   21.6\n",
      "1981:   24.8\n",
      "1982:   12.9\n",
      "1983:   52.0\n",
      "1984:   11.2\n",
      "1985:   68.4\n",
      "1986:   4.8\n",
      "1987:   9.8\n",
      "1988:   10.8\n",
      "1989:   34.8\n",
      "1990:   15.4\n",
      "1991:   21.4\n",
      "1992:   16.5\n",
      "1993:   27.9\n",
      "1994:   7.8\n",
      "1995:   61.2\n",
      "1996:   18.9\n",
      "1997:   18.2\n",
      "1998:   11.6\n",
      "1999:   12.7\n",
      "2000:   50.3\n",
      "2001:   82.7\n",
      "2002:   35.8\n",
      "2003:   21.6\n",
      "2004:   22.8\n",
      "2005:   20.3\n",
      "2006:   7.5\n",
      "2007:   31.3\n",
      "2008:   49.2\n",
      "2009:   25.1\n",
      "2010:   32.0\n",
      "2011:   3.8\n",
      "2012:   19.6\n",
      "2013:   28.5\n",
      "2014:   11.3\n",
      "2015:   1.0\n",
      "2016:   30.1\n",
      "2017:   33.7\n",
      "2018:   14.1\n",
      "2019:   16.1\n",
      "2020:   33.0\n",
      "2021:   5.7\n",
      "\n",
      "\n",
      "DEC minimum snowfall: 1.0 inches of snow.\n",
      "\n",
      "\n",
      "DEC maximum snowfall: 82.7 inches of snow.\n",
      "\n",
      "\n",
      " JAN: \n",
      "_____ \n",
      "\n",
      "1941:   17.3\n",
      "1942:   31.0\n",
      "1943:   16.9\n",
      "1944:   3.4\n",
      "1945:   50.6\n",
      "1946:   10.7\n",
      "1947:   13.0\n",
      "1948:   16.7\n",
      "1949:   11.8\n",
      "1950:   14.8\n",
      "1951:   13.7\n",
      "1952:   16.8\n",
      "1953:   8.0\n",
      "1954:   16.2\n",
      "1955:   28.5\n",
      "1956:   17.7\n",
      "1957:   36.6\n",
      "1958:   31.1\n",
      "1959:   38.4\n",
      "1960:   18.3\n",
      "1961:   23.5\n",
      "1962:   26.2\n",
      "1963:   31.5\n",
      "1964:   13.7\n",
      "1965:   19.2\n",
      "1966:   48.0\n",
      "1967:   11.6\n",
      "1968:   19.1\n",
      "1969:   31.2\n",
      "1970:   38.0\n",
      "1971:   17.2\n",
      "1972:   27.6\n",
      "1973:   9.9\n",
      "1974:   19.7\n",
      "1975:   11.0\n",
      "1976:   21.6\n",
      "1977:   68.3\n",
      "1978:   56.5\n",
      "1979:   42.6\n",
      "1980:   10.2\n",
      "1981:   14.4\n",
      "1982:   53.2\n",
      "1983:   9.0\n",
      "1984:   13.4\n",
      "1985:   65.9\n",
      "1986:   17.3\n",
      "1987:   28.5\n",
      "1988:   6.9\n",
      "1989:   5.4\n",
      "1990:   11.8\n",
      "1991:   16.6\n",
      "1992:   18.4\n",
      "1993:   13.1\n",
      "1994:   35.4\n",
      "1995:   23.1\n",
      "1996:   25.3\n",
      "1997:   42.4\n",
      "1998:   13.6\n",
      "1999:   65.1\n",
      "2000:   19.4\n",
      "2001:   19.6\n",
      "2002:   13.7\n",
      "2003:   37.4\n",
      "2004:   45.2\n",
      "2005:   37.0\n",
      "2006:   7.1\n",
      "2007:   15.5\n",
      "2008:   17.5\n",
      "2009:   30.6\n",
      "2010:   35.6\n",
      "2011:   29.8\n",
      "2012:   20.8\n",
      "2013:   6.2\n",
      "2014:   42.4\n",
      "2015:   25.0\n",
      "2016:   25.6\n",
      "2017:   11.0\n",
      "2018:   31.2\n",
      "2019:   63.4\n",
      "2020:   13.2\n",
      "2021:   10.2\n",
      "2022:   52.1\n",
      "\n",
      "\n",
      "JAN minimum snowfall: 3.4 inches of snow.\n",
      "\n",
      "\n",
      "JAN maximum snowfall: 68.3 inches of snow.\n",
      "\n",
      "\n",
      " FEB: \n",
      "_____ \n",
      "\n",
      "1941:   23.1\n",
      "1942:   28.0\n",
      "1943:   17.7\n",
      "1944:   24.6\n",
      "1945:   23.3\n",
      "1946:   23.5\n",
      "1947:   22.2\n",
      "1948:   7.0\n",
      "1949:   5.2\n",
      "1950:   19.3\n",
      "1951:   12.3\n",
      "1952:   8.9\n",
      "1953:   11.9\n",
      "1954:   2.6\n",
      "1955:   12.0\n",
      "1956:   14.3\n",
      "1957:   3.1\n",
      "1958:   54.2\n",
      "1959:   14.0\n",
      "1960:   49.5\n",
      "1961:   11.9\n",
      "1962:   28.2\n",
      "1963:   15.5\n",
      "1964:   14.6\n",
      "1965:   9.4\n",
      "1966:   15.2\n",
      "1967:   19.8\n",
      "1968:   11.7\n",
      "1969:   12.8\n",
      "1970:   21.9\n",
      "1971:   19.4\n",
      "1972:   31.4\n",
      "1973:   16.1\n",
      "1974:   22.8\n",
      "1975:   16.3\n",
      "1976:   8.3\n",
      "1977:   22.7\n",
      "1978:   21.7\n",
      "1979:   28.3\n",
      "1980:   11.7\n",
      "1981:   5.0\n",
      "1982:   12.7\n",
      "1983:   5.5\n",
      "1984:   32.5\n",
      "1985:   20.9\n",
      "1986:   17.3\n",
      "1987:   7.7\n",
      "1988:   31.9\n",
      "1989:   29.6\n",
      "1990:   28.0\n",
      "1991:   16.1\n",
      "1992:   7.0\n",
      "1993:   19.5\n",
      "1994:   21.6\n",
      "1995:   34.6\n",
      "1996:   11.9\n",
      "1997:   9.3\n",
      "1998:   1.8\n",
      "1999:   6.9\n",
      "2000:   16.2\n",
      "2001:   9.8\n",
      "2002:   17.2\n",
      "2003:   19.5\n",
      "2004:   5.9\n",
      "2005:   22.3\n",
      "2006:   26.3\n",
      "2007:   33.5\n",
      "2008:   22.5\n",
      "2009:   11.6\n",
      "2010:   13.4\n",
      "2011:   34.1\n",
      "2012:   9.6\n",
      "2013:   20.5\n",
      "2014:   23.3\n",
      "2015:   46.2\n",
      "2016:   20.5\n",
      "2017:   5.0\n",
      "2018:   18.1\n",
      "2019:   16.8\n",
      "2020:   20.6\n",
      "2021:   27.5\n",
      "2022:   23.1\n",
      "\n",
      "\n",
      "FEB minimum snowfall: 1.8 inches of snow.\n",
      "\n",
      "\n",
      "FEB maximum snowfall: 54.2 inches of snow.\n",
      "\n",
      "\n",
      " MAR: \n",
      "_____ \n",
      "\n",
      "1941:   9.3\n",
      "1942:   13.7\n",
      "1943:   10.4\n",
      "1944:   10.5\n",
      "1945:   5.8\n",
      "1946:   0.05\n",
      "1947:   13.5\n",
      "1948:   4.2\n",
      "1949:   14.3\n",
      "1950:   13.7\n",
      "1951:   7.9\n",
      "1952:   7.4\n",
      "1953:   5.5\n",
      "1954:   26.3\n",
      "1955:   11.1\n",
      "1956:   23.1\n",
      "1957:   10.2\n",
      "1958:   11.2\n",
      "1959:   29.2\n",
      "1960:   19.5\n",
      "1961:   5.1\n",
      "1962:   6.7\n",
      "1963:   7.7\n",
      "1964:   12.8\n",
      "1965:   17.5\n",
      "1966:   11.4\n",
      "1967:   10.8\n",
      "1968:   10.6\n",
      "1969:   8.0\n",
      "1970:   12.6\n",
      "1971:   22.6\n",
      "1972:   14.1\n",
      "1973:   8.5\n",
      "1974:   12.9\n",
      "1975:   7.6\n",
      "1976:   17.3\n",
      "1977:   13.5\n",
      "1978:   5.8\n",
      "1979:   4.6\n",
      "1980:   13.9\n",
      "1981:   13.2\n",
      "1982:   9.0\n",
      "1983:   6.9\n",
      "1984:   16.0\n",
      "1985:   6.3\n",
      "1986:   4.8\n",
      "1987:   10.8\n",
      "1988:   6.1\n",
      "1989:   10.1\n",
      "1990:   1.4\n",
      "1991:   8.5\n",
      "1992:   22.8\n",
      "1993:   29.3\n",
      "1994:   13.2\n",
      "1995:   4.3\n",
      "1996:   24.1\n",
      "1997:   13.4\n",
      "1998:   25.3\n",
      "1999:   15.8\n",
      "2000:   10.7\n",
      "2001:   32.8\n",
      "2002:   15.9\n",
      "2003:   6.6\n",
      "2004:   20.7\n",
      "2005:   17.5\n",
      "2006:   6.5\n",
      "2007:   5.4\n",
      "2008:   29.1\n",
      "2009:   0.5\n",
      "2010:   0.05\n",
      "2011:   13.3\n",
      "2012:   1.5\n",
      "2013:   9.8\n",
      "2014:   24.5\n",
      "2015:   9.6\n",
      "2016:   0.9\n",
      "2017:   26.8\n",
      "2018:   22.2\n",
      "2019:   10.5\n",
      "2020:   2.1\n",
      "2021:   0.6\n",
      "2022:   9.3\n",
      "\n",
      "\n",
      "MAR minimum snowfall: 0.05 inches of snow.\n",
      "\n",
      "\n",
      "MAR maximum snowfall: 32.8 inches of snow.\n",
      "\n",
      "\n",
      " APR: \n",
      "_____ \n",
      "\n",
      "1941:   0.05\n",
      "1942:   4.1\n",
      "1943:   5.1\n",
      "1944:   2.7\n",
      "1945:   0.05\n",
      "1946:   0.05\n",
      "1947:   4.0\n",
      "1948:   0.05\n",
      "1949:   0.5\n",
      "1950:   2.8\n",
      "1951:   0.05\n",
      "1952:   0.6\n",
      "1953:   2.8\n",
      "1954:   1.2\n",
      "1955:   0.3\n",
      "1956:   3.8\n",
      "1957:   12.0\n",
      "1958:   4.2\n",
      "1959:   0.4\n",
      "1960:   1.9\n",
      "1961:   13.1\n",
      "1962:   4.5\n",
      "1963:   0.3\n",
      "1964:   3.3\n",
      "1965:   4.2\n",
      "1966:   3.2\n",
      "1967:   0.6\n",
      "1968:   0.1\n",
      "1969:   3.1\n",
      "1970:   1.5\n",
      "1971:   2.9\n",
      "1972:   5.2\n",
      "1973:   2.4\n",
      "1974:   7.1\n",
      "1975:   15.0\n",
      "1976:   2.5\n",
      "1977:   2.2\n",
      "1978:   1.8\n",
      "1979:   8.7\n",
      "1980:   0.3\n",
      "1981:   nan\n",
      "1982:   10.9\n",
      "1983:   2.3\n",
      "1984:   0.9\n",
      "1985:   1.5\n",
      "1986:   1.7\n",
      "1987:   2.0\n",
      "1988:   0.8\n",
      "1989:   2.5\n",
      "1990:   9.9\n",
      "1991:   0.2\n",
      "1992:   5.0\n",
      "1993:   0.5\n",
      "1994:   6.9\n",
      "1995:   3.9\n",
      "1996:   3.2\n",
      "1997:   2.1\n",
      "1998:   0.05\n",
      "1999:   0.9\n",
      "2000:   3.7\n",
      "2001:   0.6\n",
      "2002:   2.5\n",
      "2003:   3.1\n",
      "2004:   3.3\n",
      "2005:   9.3\n",
      "2006:   0.1\n",
      "2007:   2.3\n",
      "2008:   0.05\n",
      "2009:   2.0\n",
      "2010:   0.05\n",
      "2011:   1.0\n",
      "2012:   1.0\n",
      "2013:   0.3\n",
      "2014:   1.2\n",
      "2015:   0.3\n",
      "2016:   7.1\n",
      "2017:   2.3\n",
      "2018:   6.9\n",
      "2019:   0.5\n",
      "2020:   4.3\n",
      "2021:   5.1\n",
      "2022:   0.8\n",
      "\n",
      "\n",
      "APR minimum snowfall: 0.05 inches of snow.\n",
      "\n",
      "\n",
      "APR maximum snowfall: 15.0 inches of snow.\n",
      "\n",
      "\n",
      " MAY: \n",
      "_____ \n",
      "\n",
      "1941:   0.0\n",
      "1942:   0.0\n",
      "1943:   0.05\n",
      "1944:   0.0\n",
      "1945:   2.0\n",
      "1946:   0.0\n",
      "1947:   0.8\n",
      "1948:   0.05\n",
      "1949:   0.0\n",
      "1950:   0.0\n",
      "1951:   0.0\n",
      "1952:   0.0\n",
      "1953:   0.0\n",
      "1954:   0.05\n",
      "1955:   0.0\n",
      "1956:   0.05\n",
      "1957:   0.0\n",
      "1958:   0.0\n",
      "1959:   0.05\n",
      "1960:   0.05\n",
      "1961:   0.05\n",
      "1962:   0.0\n",
      "1963:   0.1\n",
      "1964:   0.0\n",
      "1965:   0.0\n",
      "1966:   0.1\n",
      "1967:   1.2\n",
      "1968:   0.0\n",
      "1969:   0.0\n",
      "1970:   0.05\n",
      "1971:   0.0\n",
      "1972:   0.0\n",
      "1973:   0.1\n",
      "1974:   0.1\n",
      "1975:   0.0\n",
      "1976:   0.05\n",
      "1977:   0.5\n",
      "1978:   0.1\n",
      "1979:   0.0\n",
      "1980:   0.05\n",
      "1981:   0.0\n",
      "1982:   0.0\n",
      "1983:   0.05\n",
      "1984:   0.05\n",
      "1985:   0.0\n",
      "1986:   0.05\n",
      "1987:   0.0\n",
      "1988:   0.0\n",
      "1989:   7.9\n",
      "1990:   0.05\n",
      "1991:   0.05\n",
      "1992:   0.0\n",
      "1993:   0.0\n",
      "1994:   0.0\n",
      "1995:   0.0\n",
      "1996:   0.05\n",
      "1997:   0.0\n",
      "1998:   0.0\n",
      "1999:   0.0\n",
      "2000:   0.0\n",
      "2001:   0.0\n",
      "2002:   0.05\n",
      "2003:   0.0\n",
      "2004:   0.0\n",
      "2005:   0.0\n",
      "2006:   0.0\n",
      "2007:   0.0\n",
      "2008:   0.0\n",
      "2009:   0.0\n",
      "2010:   0.05\n",
      "2011:   0.0\n",
      "2012:   0.0\n",
      "2013:   0.05\n",
      "2014:   0.0\n",
      "2015:   0.0\n",
      "2016:   0.05\n",
      "2017:   0.0\n",
      "2018:   0.0\n",
      "2019:   0.0\n",
      "2020:   0.3\n",
      "2021:   0.05\n",
      "2022:   0.0\n",
      "\n",
      "\n",
      "MAY minimum snowfall: 0.0 inches of snow.\n",
      "\n",
      "\n",
      "MAY maximum snowfall: 7.9 inches of snow.\n",
      "\n",
      "\n",
      " JUN: \n",
      "_____ \n",
      "\n",
      "1941:   0\n",
      "1942:   0\n",
      "1943:   0\n",
      "1944:   0\n",
      "1945:   0\n",
      "1946:   0\n",
      "1947:   0\n",
      "1948:   0\n",
      "1949:   0\n",
      "1950:   0\n",
      "1951:   0\n",
      "1952:   0\n",
      "1953:   0\n",
      "1954:   0\n",
      "1955:   0\n",
      "1956:   0\n",
      "1957:   0\n",
      "1958:   0\n",
      "1959:   0\n",
      "1960:   0\n",
      "1961:   0\n",
      "1962:   0\n",
      "1963:   0\n",
      "1964:   0\n",
      "1965:   0\n",
      "1966:   0\n",
      "1967:   0\n",
      "1968:   0\n",
      "1969:   0\n",
      "1970:   0\n",
      "1971:   0\n",
      "1972:   0\n",
      "1973:   0\n",
      "1974:   0\n",
      "1975:   0\n",
      "1976:   0\n",
      "1977:   0\n",
      "1978:   0\n",
      "1979:   0\n",
      "1980:   0\n",
      "1981:   0\n",
      "1982:   0\n",
      "1983:   0\n",
      "1984:   0\n",
      "1985:   0\n",
      "1986:   0\n",
      "1987:   0\n",
      "1988:   0\n",
      "1989:   0\n",
      "1990:   0\n",
      "1991:   0\n",
      "1992:   0\n",
      "1993:   0\n",
      "1994:   0\n",
      "1995:   0\n",
      "1996:   0\n",
      "1997:   0\n",
      "1998:   0\n",
      "1999:   0\n",
      "2000:   0\n",
      "2001:   0\n",
      "2002:   0\n",
      "2003:   0\n",
      "2004:   0\n",
      "2005:   0\n",
      "2006:   0\n",
      "2007:   0\n",
      "2008:   0\n",
      "2009:   0\n",
      "2010:   0\n",
      "2011:   0\n",
      "2012:   0\n",
      "2013:   0\n",
      "2014:   0\n",
      "2015:   0\n",
      "2016:   0\n",
      "2017:   0\n",
      "2018:   0\n",
      "2019:   0\n",
      "2020:   0\n",
      "2021:   0\n",
      "2022:   0\n",
      "\n",
      "\n",
      "JUN minimum snowfall: 0 inches of snow.\n",
      "\n",
      "\n",
      "JUN maximum snowfall: 0 inches of snow.\n"
     ]
    }
   ],
   "source": [
    "def snowfall_by_month(city, year):\n",
    "    \n",
    "    if(city==\"Buffalo\"):\n",
    "        c=db\n",
    "\n",
    "    month_list=[\"JUL\", \"AUG\", \"SEP\", \"OCT\", \"NOV\", \"DEC\", \"JAN\", \"FEB\", \"MAR\", \"APR\", \"MAY\", \"JUN\"]\n",
    "    x=0\n",
    "    save=year\n",
    "    for i in month_list:\n",
    "        print(\"\\n\\n\", i + \": \\n\" + \"_____ \\n\")\n",
    "        \n",
    "        year=save\n",
    "    \n",
    "        if(x>=6):\n",
    "            year+=1\n",
    "        else:\n",
    "            x+=1\n",
    "        \n",
    "        for j in c[i]:\n",
    "            print(str(year) + \":  \", j)\n",
    "        \n",
    "            year+=1\n",
    "    \n",
    "    \n",
    "        print(\"\\n\\n\" + i, \"minimum snowfall:\", c[i].min(), \"inches of snow.\")\n",
    "        print(\"\\n\\n\" + i, \"maximum snowfall:\", c[i].max(), \"inches of snow.\")\n",
    "        \n",
    "\n",
    "snowfall_by_month(\"Buffalo\", 1940)\n",
    "\n",
    "    "
   ]
  },
  {
   "cell_type": "code",
   "execution_count": 144,
   "id": "a87222ff",
   "metadata": {
    "scrolled": true
   },
   "outputs": [],
   "source": [
    "%matplotlib inline\n",
    "\n",
    "nov=db[\"NOV\"]\n",
    "dec=db[\"DEC\"]\n",
    "jan=db[\"JAN\"]\n",
    "feb=db[\"FEB\"]\n",
    "mar=db[\"MAR\"]"
   ]
  },
  {
   "cell_type": "code",
   "execution_count": 4,
   "id": "7b9c3166",
   "metadata": {},
   "outputs": [
    {
     "data": {
      "text/plain": [
       "array([[<AxesSubplot:title={'center':'nov'}>]], dtype=object)"
      ]
     },
     "execution_count": 4,
     "metadata": {},
     "output_type": "execute_result"
    },
    {
     "data": {
      "image/png": "[encoded data removed]",
      "text/plain": [
       "<Figure size 432x288 with 1 Axes>"
      ]
     },
     "metadata": {
      "needs_background": "light"
     },
     "output_type": "display_data"
    }
   ],
   "source": [
    "n = pd.DataFrame({'nov': nov})\n",
    "n.hist()"
   ]
  },
  {
   "cell_type": "code",
   "execution_count": 129,
   "id": "5d0e4426",
   "metadata": {
    "scrolled": true
   },
   "outputs": [
    {
     "data": {
      "text/plain": [
       "array([[<AxesSubplot:title={'center':'dec'}>]], dtype=object)"
      ]
     },
     "execution_count": 129,
     "metadata": {},
     "output_type": "execute_result"
    },
    {
     "data": {
      "image/png": "[encoded data removed]",
      "text/plain": [
       "<Figure size 432x288 with 1 Axes>"
      ]
     },
     "metadata": {
      "needs_background": "light"
     },
     "output_type": "display_data"
    }
   ],
   "source": [
    "d = pd.DataFrame({'dec': dec})\n",
    "d.hist()"
   ]
  },
  {
   "cell_type": "code",
   "execution_count": 130,
   "id": "99739a0d",
   "metadata": {},
   "outputs": [
    {
     "data": {
      "text/plain": [
       "array([[<AxesSubplot:title={'center':'jan'}>]], dtype=object)"
      ]
     },
     "execution_count": 130,
     "metadata": {},
     "output_type": "execute_result"
    },
    {
     "data": {
      "image/png": "[encoded data removed]",
      "text/plain": [
       "<Figure size 432x288 with 1 Axes>"
      ]
     },
     "metadata": {
      "needs_background": "light"
     },
     "output_type": "display_data"
    }
   ],
   "source": [
    "j = pd.DataFrame({'jan': jan})\n",
    "j.hist()"
   ]
  },
  {
   "cell_type": "code",
   "execution_count": 131,
   "id": "8f8111eb",
   "metadata": {},
   "outputs": [
    {
     "data": {
      "text/plain": [
       "array([[<AxesSubplot:title={'center':'feb'}>]], dtype=object)"
      ]
     },
     "execution_count": 131,
     "metadata": {},
     "output_type": "execute_result"
    },
    {
     "data": {
      "image/png": "[encoded data removed]",
      "text/plain": [
       "<Figure size 432x288 with 1 Axes>"
      ]
     },
     "metadata": {
      "needs_background": "light"
     },
     "output_type": "display_data"
    }
   ],
   "source": [
    "f = pd.DataFrame({'feb': feb})\n",
    "f.hist()"
   ]
  },
  {
   "cell_type": "code",
   "execution_count": 7,
   "id": "c85a297b",
   "metadata": {},
   "outputs": [
    {
     "name": "stdout",
     "output_type": "stream",
     "text": [
      "usage: conda [-h] [-V] command ...\r\n",
      "conda: error: unrecognized arguments: --prefix/Users/joshmagil18/opt/anaconda3\r\n"
     ]
    }
   ],
   "source": [
    "import sys\n",
    "\n",
    "!conda install --yes --prefix{sys.prefix} openpyxl\n",
    "\n",
    "from openpyxl import load_workbook\n",
    "\n",
    "wb=load_workbook(r\"/Users/joshmagil18/Downloads/Rochester.xlsx\")"
   ]
  },
  {
   "cell_type": "code",
   "execution_count": 145,
   "id": "618098de",
   "metadata": {},
   "outputs": [
    {
     "name": "stdout",
     "output_type": "stream",
     "text": [
      "     SEASON  JUL  AUG  SEP   OCT   NOV   DEC   JAN   FEB   MAR   APR   MAY  \\\n",
      "0   1940-41    0    0  0.0  0.05  13.5   7.0  13.0  20.2  19.6  0.40  0.00   \n",
      "1   1941-42    0    0  0.0  0.05   0.2   5.9   5.0  31.5  18.4  5.30  0.00   \n",
      "2   1942-43    0    0  0.0  0.05   5.5  18.5  17.2  17.6  10.7  1.10  0.05   \n",
      "3   1943-44    0    0  0.0  0.05   5.2   5.1   4.0  21.0   7.6  3.20  0.00   \n",
      "4   1944-45    0    0  0.0  0.05   7.7  41.8  23.5  13.9   5.4  0.40  2.00   \n",
      "..      ...  ...  ...  ...   ...   ...   ...   ...   ...   ...   ...   ...   \n",
      "77  2017-18    0    0  0.0  0.00   2.6  34.7  32.9  15.7  29.4  5.20  0.00   \n",
      "78  2018-19    0    0  0.0  0.10  17.4  11.5  32.8  19.2  13.9  2.20  0.00   \n",
      "79  2019-20    0    0  0.0  0.00  17.8  22.4  21.8  21.6   4.1  3.90  0.20   \n",
      "80  2020-21    0    0  0.0  0.05   1.2  10.5  21.9  29.9   1.4  4.70  0.05   \n",
      "81  2021-22    0    0  0.0  0.00   3.9  10.1  34.4  26.3  12.3  0.05  0.00   \n",
      "\n",
      "    JUN  ANNUAL  \n",
      "0     0    73.7  \n",
      "1     0    66.3  \n",
      "2     0    70.6  \n",
      "3     0    46.1  \n",
      "4     0    94.7  \n",
      "..  ...     ...  \n",
      "77    0   120.5  \n",
      "78    0    97.1  \n",
      "79    0    91.8  \n",
      "80    0    69.6  \n",
      "81    0    87.0  \n",
      "\n",
      "[82 rows x 14 columns]\n"
     ]
    }
   ],
   "source": [
    "dr = pd.read_excel(r\"/Users/joshmagil18/Downloads/Rochester Cleaned.xlsx\")\n",
    "print(dr)"
   ]
  },
  {
   "cell_type": "code",
   "execution_count": 114,
   "id": "1dff79b3",
   "metadata": {},
   "outputs": [
    {
     "data": {
      "text/plain": [
       "array([[<AxesSubplot:title={'center':'Buffalo_Snowfall_December'}>,\n",
       "        <AxesSubplot:title={'center':'Rochester_Snowfall_December'}>]],\n",
       "      dtype=object)"
      ]
     },
     "execution_count": 114,
     "metadata": {},
     "output_type": "execute_result"
    },
    {
     "data": {
      "image/png": "[encoded data removed]",
      "text/plain": [
       "<Figure size 432x288 with 2 Axes>"
      ]
     },
     "metadata": {
      "needs_background": "light"
     },
     "output_type": "display_data"
    }
   ],
   "source": [
    "Buffalo_Snowfall_December=db[\"DEC\"]\n",
    "Rochester_Snowfall_December=dr[\"DEC\"]\n",
    "\n",
    "f = pd.DataFrame({'Buffalo_Snowfall_December': Buffalo_Snowfall_December, 'Rochester_Snowfall_December': Rochester_Snowfall_December})\n",
    "f.hist(bins=10, alpha=1, range=[0,90])"
   ]
  },
  {
   "cell_type": "code",
   "execution_count": 172,
   "id": "5a1c62d8",
   "metadata": {},
   "outputs": [
    {
     "data": {
      "image/png": "[encoded data removed]",
      "text/plain": [
       "<Figure size 432x288 with 1 Axes>"
      ]
     },
     "metadata": {
      "needs_background": "light"
     },
     "output_type": "display_data"
    }
   ],
   "source": [
    "ax=f.plot.hist(bins=60, alpha=1)\n",
    "plt.xlabel('Inches of Snowfall')\n",
    "plt.show()"
   ]
  },
  {
   "cell_type": "code",
   "execution_count": 168,
   "id": "d3117021",
   "metadata": {},
   "outputs": [
    {
     "data": {
      "text/plain": [
       "<AxesSubplot:ylabel='Frequency'>"
      ]
     },
     "execution_count": 168,
     "metadata": {},
     "output_type": "execute_result"
    },
    {
     "data": {
      "image/png": "[encoded data removed]",
      "text/plain": [
       "<Figure size 432x288 with 1 Axes>"
      ]
     },
     "metadata": {
      "needs_background": "light"
     },
     "output_type": "display_data"
    },
    {
     "data": {
      "image/png": "[encoded data removed]",
      "text/plain": [
       "<Figure size 432x288 with 1 Axes>"
      ]
     },
     "metadata": {
      "needs_background": "light"
     },
     "output_type": "display_data"
    },
    {
     "data": {
      "image/png": "[encoded data removed]",
      "text/plain": [
       "<Figure size 432x288 with 1 Axes>"
      ]
     },
     "metadata": {
      "needs_background": "light"
     },
     "output_type": "display_data"
    }
   ],
   "source": [
    "Buffalo_Snowfall_January=db[\"JAN\"]\n",
    "Rochester_Snowfall_January=dr[\"JAN\"]\n",
    "\n",
    "f = pd.DataFrame({'Buffalo_Snowfall_January': Buffalo_Snowfall_January, 'Rochester_Snowfall_January': Rochester_Snowfall_January})\n",
    "f.plot.hist(bins=60, alpha=1)\n",
    "\n",
    "Buffalo_Snowfall_February=db[\"FEB\"]\n",
    "Rochester_Snowfall_February=dr[\"FEB\"]\n",
    "\n",
    "f = pd.DataFrame({'Buffalo_Snowfall_February': Buffalo_Snowfall_February, 'Rochester_Snowfall_February': Rochester_Snowfall_February})\n",
    "f.plot.hist(bins=60, alpha=1)\n",
    "\n",
    "Buffalo_Snowfall_Annual=db[\"ANNUAL\"]\n",
    "Rochester_Snowfall_Annual=dr[\"ANNUAL\"]\n",
    "\n",
    "f = pd.DataFrame({'Buffalo_Snowfall_Annual': Buffalo_Snowfall_Annual, 'Rochester_Snowfall_Annual': Rochester_Snowfall_Annual})\n",
    "f.plot.hist(bins=60, alpha=1)"
   ]
  },
  {
   "cell_type": "code",
   "execution_count": 89,
   "id": "6eecf138",
   "metadata": {
    "scrolled": true
   },
   "outputs": [
    {
     "data": {
      "text/html": [
       "<div>\n",
       "<style scoped>\n",
       "    .dataframe tbody tr th:only-of-type {\n",
       "        vertical-align: middle;\n",
       "    }\n",
       "\n",
       "    .dataframe tbody tr th {\n",
       "        vertical-align: top;\n",
       "    }\n",
       "\n",
       "    .dataframe thead th {\n",
       "        text-align: right;\n",
       "    }\n",
       "</style>\n",
       "<table border=\"1\" class=\"dataframe\">\n",
       "  <thead>\n",
       "    <tr style=\"text-align: right;\">\n",
       "      <th></th>\n",
       "      <th>JUL</th>\n",
       "      <th>AUG</th>\n",
       "      <th>SEP</th>\n",
       "      <th>OCT</th>\n",
       "      <th>NOV</th>\n",
       "      <th>DEC</th>\n",
       "      <th>JAN</th>\n",
       "      <th>FEB</th>\n",
       "      <th>MAR</th>\n",
       "      <th>APR</th>\n",
       "      <th>MAY</th>\n",
       "      <th>JUN</th>\n",
       "      <th>ANNUAL</th>\n",
       "    </tr>\n",
       "  </thead>\n",
       "  <tbody>\n",
       "    <tr>\n",
       "      <th>count</th>\n",
       "      <td>82.0</td>\n",
       "      <td>82.0</td>\n",
       "      <td>82.00000</td>\n",
       "      <td>82.000000</td>\n",
       "      <td>82.000000</td>\n",
       "      <td>82.000000</td>\n",
       "      <td>82.000000</td>\n",
       "      <td>82.000000</td>\n",
       "      <td>82.000000</td>\n",
       "      <td>81.000000</td>\n",
       "      <td>82.000000</td>\n",
       "      <td>82.0</td>\n",
       "      <td>82.000000</td>\n",
       "    </tr>\n",
       "    <tr>\n",
       "      <th>mean</th>\n",
       "      <td>0.0</td>\n",
       "      <td>0.0</td>\n",
       "      <td>0.00122</td>\n",
       "      <td>0.498780</td>\n",
       "      <td>9.995122</td>\n",
       "      <td>23.053659</td>\n",
       "      <td>24.956098</td>\n",
       "      <td>18.532927</td>\n",
       "      <td>12.060976</td>\n",
       "      <td>2.983951</td>\n",
       "      <td>0.173780</td>\n",
       "      <td>0.0</td>\n",
       "      <td>92.297561</td>\n",
       "    </tr>\n",
       "    <tr>\n",
       "      <th>std</th>\n",
       "      <td>0.0</td>\n",
       "      <td>0.0</td>\n",
       "      <td>0.00776</td>\n",
       "      <td>2.534308</td>\n",
       "      <td>8.969391</td>\n",
       "      <td>15.931134</td>\n",
       "      <td>15.486809</td>\n",
       "      <td>10.190059</td>\n",
       "      <td>7.665499</td>\n",
       "      <td>3.208756</td>\n",
       "      <td>0.905785</td>\n",
       "      <td>0.0</td>\n",
       "      <td>28.049383</td>\n",
       "    </tr>\n",
       "    <tr>\n",
       "      <th>min</th>\n",
       "      <td>0.0</td>\n",
       "      <td>0.0</td>\n",
       "      <td>0.00000</td>\n",
       "      <td>0.000000</td>\n",
       "      <td>0.000000</td>\n",
       "      <td>1.000000</td>\n",
       "      <td>3.400000</td>\n",
       "      <td>1.800000</td>\n",
       "      <td>0.050000</td>\n",
       "      <td>0.050000</td>\n",
       "      <td>0.000000</td>\n",
       "      <td>0.0</td>\n",
       "      <td>36.700000</td>\n",
       "    </tr>\n",
       "    <tr>\n",
       "      <th>25%</th>\n",
       "      <td>0.0</td>\n",
       "      <td>0.0</td>\n",
       "      <td>0.00000</td>\n",
       "      <td>0.000000</td>\n",
       "      <td>2.175000</td>\n",
       "      <td>11.625000</td>\n",
       "      <td>13.625000</td>\n",
       "      <td>11.750000</td>\n",
       "      <td>6.625000</td>\n",
       "      <td>0.600000</td>\n",
       "      <td>0.000000</td>\n",
       "      <td>0.0</td>\n",
       "      <td>71.525000</td>\n",
       "    </tr>\n",
       "    <tr>\n",
       "      <th>50%</th>\n",
       "      <td>0.0</td>\n",
       "      <td>0.0</td>\n",
       "      <td>0.00000</td>\n",
       "      <td>0.050000</td>\n",
       "      <td>8.800000</td>\n",
       "      <td>20.050000</td>\n",
       "      <td>19.300000</td>\n",
       "      <td>17.500000</td>\n",
       "      <td>10.650000</td>\n",
       "      <td>2.300000</td>\n",
       "      <td>0.000000</td>\n",
       "      <td>0.0</td>\n",
       "      <td>91.350000</td>\n",
       "    </tr>\n",
       "    <tr>\n",
       "      <th>75%</th>\n",
       "      <td>0.0</td>\n",
       "      <td>0.0</td>\n",
       "      <td>0.00000</td>\n",
       "      <td>0.050000</td>\n",
       "      <td>15.875000</td>\n",
       "      <td>30.950000</td>\n",
       "      <td>31.425000</td>\n",
       "      <td>23.100000</td>\n",
       "      <td>15.425000</td>\n",
       "      <td>4.000000</td>\n",
       "      <td>0.050000</td>\n",
       "      <td>0.0</td>\n",
       "      <td>111.100000</td>\n",
       "    </tr>\n",
       "    <tr>\n",
       "      <th>max</th>\n",
       "      <td>0.0</td>\n",
       "      <td>0.0</td>\n",
       "      <td>0.05000</td>\n",
       "      <td>22.600000</td>\n",
       "      <td>45.600000</td>\n",
       "      <td>82.700000</td>\n",
       "      <td>68.300000</td>\n",
       "      <td>54.200000</td>\n",
       "      <td>32.800000</td>\n",
       "      <td>15.000000</td>\n",
       "      <td>7.900000</td>\n",
       "      <td>0.0</td>\n",
       "      <td>199.400000</td>\n",
       "    </tr>\n",
       "  </tbody>\n",
       "</table>\n",
       "</div>"
      ],
      "text/plain": [
       "        JUL   AUG       SEP        OCT        NOV        DEC        JAN  \\\n",
       "count  82.0  82.0  82.00000  82.000000  82.000000  82.000000  82.000000   \n",
       "mean    0.0   0.0   0.00122   0.498780   9.995122  23.053659  24.956098   \n",
       "std     0.0   0.0   0.00776   2.534308   8.969391  15.931134  15.486809   \n",
       "min     0.0   0.0   0.00000   0.000000   0.000000   1.000000   3.400000   \n",
       "25%     0.0   0.0   0.00000   0.000000   2.175000  11.625000  13.625000   \n",
       "50%     0.0   0.0   0.00000   0.050000   8.800000  20.050000  19.300000   \n",
       "75%     0.0   0.0   0.00000   0.050000  15.875000  30.950000  31.425000   \n",
       "max     0.0   0.0   0.05000  22.600000  45.600000  82.700000  68.300000   \n",
       "\n",
       "             FEB        MAR        APR        MAY   JUN      ANNUAL  \n",
       "count  82.000000  82.000000  81.000000  82.000000  82.0   82.000000  \n",
       "mean   18.532927  12.060976   2.983951   0.173780   0.0   92.297561  \n",
       "std    10.190059   7.665499   3.208756   0.905785   0.0   28.049383  \n",
       "min     1.800000   0.050000   0.050000   0.000000   0.0   36.700000  \n",
       "25%    11.750000   6.625000   0.600000   0.000000   0.0   71.525000  \n",
       "50%    17.500000  10.650000   2.300000   0.000000   0.0   91.350000  \n",
       "75%    23.100000  15.425000   4.000000   0.050000   0.0  111.100000  \n",
       "max    54.200000  32.800000  15.000000   7.900000   0.0  199.400000  "
      ]
     },
     "execution_count": 89,
     "metadata": {},
     "output_type": "execute_result"
    }
   ],
   "source": [
    "db.describe() #shows the "
   ]
  },
  {
   "cell_type": "code",
   "execution_count": 117,
   "id": "dda6d9cb",
   "metadata": {},
   "outputs": [
    {
     "name": "stdout",
     "output_type": "stream",
     "text": [
      "count    82.000000\n",
      "mean     23.053659\n",
      "std      15.931134\n",
      "min       1.000000\n",
      "25%      11.625000\n",
      "50%      20.050000\n",
      "75%      30.950000\n",
      "max      82.700000\n",
      "Name: DEC, dtype: float64 \n",
      "\n",
      "count    82.000000\n",
      "mean     20.052439\n",
      "std      11.476011\n",
      "min       2.300000\n",
      "25%      11.125000\n",
      "50%      18.400000\n",
      "75%      26.150000\n",
      "max      46.500000\n",
      "Name: DEC, dtype: float64\n"
     ]
    }
   ],
   "source": [
    "print(db[\"DEC\"].describe(), \"\\n\")\n",
    "print(dr[\"DEC\"].describe())"
   ]
  },
  {
   "cell_type": "code",
   "execution_count": 161,
   "id": "f9bb358f",
   "metadata": {},
   "outputs": [
    {
     "data": {
      "image/png": "[encoded data removed]",
      "text/plain": [
       "<Figure size 432x288 with 1 Axes>"
      ]
     },
     "metadata": {
      "needs_background": "light"
     },
     "output_type": "display_data"
    },
    {
     "data": {
      "image/png": "[encoded data removed]",
      "text/plain": [
       "<Figure size 432x288 with 1 Axes>"
      ]
     },
     "metadata": {
      "needs_background": "light"
     },
     "output_type": "display_data"
    }
   ],
   "source": [
    "#We want to see a visual representation of 5 point summaries for snowfall in the winter months for Buffalo and Rochester, respecrively.\n",
    "\n",
    "buff = db.boxplot(column = ['NOV','DEC','JAN', 'FEB', 'MAR'], grid=True, color='blue') #creates a box and whisker plot for the provided columns. 'grid' adds in grid lines lined up with the ticks of the y-axis. Included a color for each plot to make them look nice.\n",
    "buff.plot()\n",
    "plt.title(\"Buffalo winter months distribution\") #titles our box plot\n",
    "plt.ylim(0, 90) #sets a boundary for the y-axis to go from 0 to 90, as our maximum data point is roughly 82.7 inches of snowfall.\n",
    "plt.show()\n",
    "\n",
    "roch = dr.boxplot(column = ['NOV','DEC','JAN', 'FEB', 'MAR'], grid=True, color='red') #repeat for Rochester data\n",
    "roch.plot()\n",
    "plt.title(\"Rochester winter months distribution\")\n",
    "plt.ylim(0, 90) #we will use the same axis boundary for Rochester so the graphs can be easily compared side by side. \n",
    "plt.show()"
   ]
  },
  {
   "cell_type": "code",
   "execution_count": 163,
   "id": "9289ffd6",
   "metadata": {},
   "outputs": [
    {
     "name": "stdout",
     "output_type": "stream",
     "text": [
      "\n",
      "2011-12 \n",
      "_______\n",
      "\n",
      "[0, 0, 0.0, 0.05, 0.05, 3.8, 20.8, 9.6, 1.5, 1.0, 0.0, 0]\n"
     ]
    },
    {
     "data": {
      "image/png": "[encoded data removed]",
      "text/plain": [
       "<Figure size 432x288 with 1 Axes>"
      ]
     },
     "metadata": {
      "needs_background": "light"
     },
     "output_type": "display_data"
    },
    {
     "name": "stdout",
     "output_type": "stream",
     "text": [
      "\n",
      "2012-13 \n",
      "_______\n",
      "\n",
      "[0, 0, 0.0, 0.0, 2.4, 19.6, 6.2, 20.5, 9.8, 0.3, 0.05, 0]\n"
     ]
    },
    {
     "data": {
      "image/png": "[encoded data removed]",
      "text/plain": [
       "<Figure size 432x288 with 1 Axes>"
      ]
     },
     "metadata": {
      "needs_background": "light"
     },
     "output_type": "display_data"
    },
    {
     "name": "stdout",
     "output_type": "stream",
     "text": [
      "\n",
      "2013-14 \n",
      "_______\n",
      "\n",
      "[0, 0, 0.0, 0.05, 10.0, 28.5, 42.4, 23.3, 24.5, 1.2, 0.0, 0]\n"
     ]
    },
    {
     "data": {
      "image/png": "[encoded data removed]",
      "text/plain": [
       "<Figure size 432x288 with 1 Axes>"
      ]
     },
     "metadata": {
      "needs_background": "light"
     },
     "output_type": "display_data"
    },
    {
     "name": "stdout",
     "output_type": "stream",
     "text": [
      "\n",
      "2014-15 \n",
      "_______\n",
      "\n",
      "[0, 0, 0.0, 0.05, 20.5, 11.3, 25.0, 46.2, 9.6, 0.3, 0.0, 0]\n"
     ]
    },
    {
     "data": {
      "image/png": "[encoded data removed]",
      "text/plain": [
       "<Figure size 432x288 with 1 Axes>"
      ]
     },
     "metadata": {
      "needs_background": "light"
     },
     "output_type": "display_data"
    },
    {
     "name": "stdout",
     "output_type": "stream",
     "text": [
      "\n",
      "2015-16 \n",
      "_______\n",
      "\n",
      "[0, 0, 0.0, 0.05, 0.05, 1.0, 25.6, 20.5, 0.9, 7.1, 0.05, 0]\n"
     ]
    },
    {
     "data": {
      "image/png": "[encoded data removed]",
      "text/plain": [
       "<Figure size 432x288 with 1 Axes>"
      ]
     },
     "metadata": {
      "needs_background": "light"
     },
     "output_type": "display_data"
    },
    {
     "name": "stdout",
     "output_type": "stream",
     "text": [
      "\n",
      "2016-17 \n",
      "_______\n",
      "\n",
      "[0, 0, 0.0, 0.05, 0.9, 30.1, 11.0, 5.0, 26.8, 2.3, 0.0, 0]\n"
     ]
    },
    {
     "data": {
      "image/png": "[encoded data removed]",
      "text/plain": [
       "<Figure size 432x288 with 1 Axes>"
      ]
     },
     "metadata": {
      "needs_background": "light"
     },
     "output_type": "display_data"
    },
    {
     "name": "stdout",
     "output_type": "stream",
     "text": [
      "\n",
      "2017-18 \n",
      "_______\n",
      "\n",
      "[0, 0, 0.0, 0.1, 0.1, 33.7, 31.2, 18.1, 22.2, 6.9, 0.0, 0]\n"
     ]
    },
    {
     "data": {
      "image/png": "[encoded data removed]",
      "text/plain": [
       "<Figure size 432x288 with 1 Axes>"
      ]
     },
     "metadata": {
      "needs_background": "light"
     },
     "output_type": "display_data"
    },
    {
     "name": "stdout",
     "output_type": "stream",
     "text": [
      "\n",
      "2018-19 \n",
      "_______\n",
      "\n",
      "[0, 0, 0.0, 0.1, 13.4, 14.1, 63.4, 16.8, 10.5, 0.5, 0.0, 0]\n"
     ]
    },
    {
     "data": {
      "image/png": "[encoded data removed]",
      "text/plain": [
       "<Figure size 432x288 with 1 Axes>"
      ]
     },
     "metadata": {
      "needs_background": "light"
     },
     "output_type": "display_data"
    },
    {
     "name": "stdout",
     "output_type": "stream",
     "text": [
      "\n",
      "2019-20 \n",
      "_______\n",
      "\n",
      "[0, 0, 0.0, 0.0, 12.6, 16.1, 13.2, 20.6, 2.1, 4.3, 0.3, 0]\n"
     ]
    },
    {
     "data": {
      "image/png": "[encoded data removed]",
      "text/plain": [
       "<Figure size 432x288 with 1 Axes>"
      ]
     },
     "metadata": {
      "needs_background": "light"
     },
     "output_type": "display_data"
    },
    {
     "name": "stdout",
     "output_type": "stream",
     "text": [
      "\n",
      "2020-21 \n",
      "_______\n",
      "\n",
      "[0, 0, 0.0, 0.05, 0.8, 33.0, 10.2, 27.5, 0.6, 5.1, 0.05, 0]\n"
     ]
    },
    {
     "data": {
      "image/png": "[encoded data removed]",
      "text/plain": [
       "<Figure size 432x288 with 1 Axes>"
      ]
     },
     "metadata": {
      "needs_background": "light"
     },
     "output_type": "display_data"
    },
    {
     "name": "stdout",
     "output_type": "stream",
     "text": [
      "\n",
      "2021-22 \n",
      "_______\n",
      "\n",
      "[0, 0, 0.0, 0.0, 5.0, 5.7, 52.1, 23.1, 9.3, 0.8, 0.0, 0]\n"
     ]
    },
    {
     "data": {
      "image/png": "[encoded data removed]",
      "text/plain": [
       "<Figure size 432x288 with 1 Axes>"
      ]
     },
     "metadata": {
      "needs_background": "light"
     },
     "output_type": "display_data"
    },
    {
     "name": "stdout",
     "output_type": "stream",
     "text": [
      "\n",
      "2011-12 \n",
      "_______\n",
      "\n",
      "[0, 0, 0.0, 0.05, 0.3, 4.9, 19.9, 27.3, 4.7, 2.8, 0.0, 0]\n"
     ]
    },
    {
     "data": {
      "image/png": "[encoded data removed]",
      "text/plain": [
       "<Figure size 432x288 with 1 Axes>"
      ]
     },
     "metadata": {
      "needs_background": "light"
     },
     "output_type": "display_data"
    },
    {
     "name": "stdout",
     "output_type": "stream",
     "text": [
      "\n",
      "2012-13 \n",
      "_______\n",
      "\n",
      "[0, 0, 0.0, 0.0, 0.8, 22.6, 11.7, 28.8, 11.9, 2.3, 0.05, 0]\n"
     ]
    },
    {
     "data": {
      "image/png": "[encoded data removed]",
      "text/plain": [
       "<Figure size 432x288 with 1 Axes>"
      ]
     },
     "metadata": {
      "needs_background": "light"
     },
     "output_type": "display_data"
    },
    {
     "name": "stdout",
     "output_type": "stream",
     "text": [
      "\n",
      "2013-14 \n",
      "_______\n",
      "\n",
      "[0, 0, 0.0, 0.0, 13.5, 22.5, 20.8, 26.3, 29.3, 0.3, 0.0, 0]\n"
     ]
    },
    {
     "data": {
      "image/png": "[encoded data removed]",
      "text/plain": [
       "<Figure size 432x288 with 1 Axes>"
      ]
     },
     "metadata": {
      "needs_background": "light"
     },
     "output_type": "display_data"
    },
    {
     "name": "stdout",
     "output_type": "stream",
     "text": [
      "\n",
      "2014-15 \n",
      "_______\n",
      "\n",
      "[0, 0, 0.0, 0.0, 9.1, 16.6, 17.7, 45.2, 12.8, 0.5, 0.0, 0]\n"
     ]
    },
    {
     "data": {
      "image/png": "[encoded data removed]",
      "text/plain": [
       "<Figure size 432x288 with 1 Axes>"
      ]
     },
     "metadata": {
      "needs_background": "light"
     },
     "output_type": "display_data"
    },
    {
     "name": "stdout",
     "output_type": "stream",
     "text": [
      "\n",
      "2015-16 \n",
      "_______\n",
      "\n",
      "[0, 0, 0.0, 0.05, 1.2, 2.3, 20.2, 28.0, 3.2, 8.8, 0.05, 0]\n"
     ]
    },
    {
     "data": {
      "image/png": "[encoded data removed]",
      "text/plain": [
       "<Figure size 432x288 with 1 Axes>"
      ]
     },
     "metadata": {
      "needs_background": "light"
     },
     "output_type": "display_data"
    },
    {
     "name": "stdout",
     "output_type": "stream",
     "text": [
      "\n",
      "2016-17 \n",
      "_______\n",
      "\n",
      "[0, 0, 0.0, 0.9, 15.0, 29.3, 11.8, 14.6, 33.0, 2.5, 0.0, 0]\n"
     ]
    },
    {
     "data": {
      "image/png": "[encoded data removed]",
      "text/plain": [
       "<Figure size 432x288 with 1 Axes>"
      ]
     },
     "metadata": {
      "needs_background": "light"
     },
     "output_type": "display_data"
    },
    {
     "name": "stdout",
     "output_type": "stream",
     "text": [
      "\n",
      "2017-18 \n",
      "_______\n",
      "\n",
      "[0, 0, 0.0, 0.0, 2.6, 34.7, 32.9, 15.7, 29.4, 5.2, 0.0, 0]\n"
     ]
    },
    {
     "data": {
      "image/png": "[encoded data removed]",
      "text/plain": [
       "<Figure size 432x288 with 1 Axes>"
      ]
     },
     "metadata": {
      "needs_background": "light"
     },
     "output_type": "display_data"
    },
    {
     "name": "stdout",
     "output_type": "stream",
     "text": [
      "\n",
      "2018-19 \n",
      "_______\n",
      "\n",
      "[0, 0, 0.0, 0.1, 17.4, 11.5, 32.8, 19.2, 13.9, 2.2, 0.0, 0]\n"
     ]
    },
    {
     "data": {
      "image/png": "[encoded data removed]",
      "text/plain": [
       "<Figure size 432x288 with 1 Axes>"
      ]
     },
     "metadata": {
      "needs_background": "light"
     },
     "output_type": "display_data"
    },
    {
     "name": "stdout",
     "output_type": "stream",
     "text": [
      "\n",
      "2019-20 \n",
      "_______\n",
      "\n",
      "[0, 0, 0.0, 0.0, 17.8, 22.4, 21.8, 21.6, 4.1, 3.9, 0.2, 0]\n"
     ]
    },
    {
     "data": {
      "image/png": "[encoded data removed]",
      "text/plain": [
       "<Figure size 432x288 with 1 Axes>"
      ]
     },
     "metadata": {
      "needs_background": "light"
     },
     "output_type": "display_data"
    },
    {
     "name": "stdout",
     "output_type": "stream",
     "text": [
      "\n",
      "2020-21 \n",
      "_______\n",
      "\n",
      "[0, 0, 0.0, 0.05, 1.2, 10.5, 21.9, 29.9, 1.4, 4.7, 0.05, 0]\n"
     ]
    },
    {
     "data": {
      "image/png": "[encoded data removed]",
      "text/plain": [
       "<Figure size 432x288 with 1 Axes>"
      ]
     },
     "metadata": {
      "needs_background": "light"
     },
     "output_type": "display_data"
    },
    {
     "name": "stdout",
     "output_type": "stream",
     "text": [
      "\n",
      "2021-22 \n",
      "_______\n",
      "\n",
      "[0, 0, 0.0, 0.0, 3.9, 10.1, 34.4, 26.3, 12.3, 0.05, 0.0, 0]\n"
     ]
    },
    {
     "data": {
      "image/png": "[encoded data removed]",
      "text/plain": [
       "<Figure size 432x288 with 1 Axes>"
      ]
     },
     "metadata": {
      "needs_background": "light"
     },
     "output_type": "display_data"
    }
   ],
   "source": [
    "def yearly_summary(start_year, end_year, city):\n",
    "       \n",
    "    month_list=[\"JUL\", \"AUG\", \"SEP\", \"OCT\", \"NOV\", \"DEC\", \"JAN\", \"FEB\", \"MAR\", \"APR\", \"MAY\", \"JUN\"]\n",
    "    city_label=''\n",
    "    col=''\n",
    "    \n",
    "    if(city==\"Buffalo\"):\n",
    "        c=db\n",
    "        col='blue'  #Blue for Buffalo\n",
    "    elif(city==\"Rochester\"):\n",
    "        c=dr\n",
    "        col='red'  #Red for Rochester\n",
    "    \n",
    "    for i in range(start_year, end_year):\n",
    "        snowfall=[]\n",
    "        year=c[\"SEASON\"][i]\n",
    "        print(\"\\n\"+ year, \"\\n_______\\n\")\n",
    "        for j in month_list:\n",
    "            val=c[j][i]\n",
    "            snowfall.append(val)\n",
    "        print(snowfall) \n",
    "        fig, ax = plt.subplots()\n",
    "        ax.plot(month_list,snowfall, color=col)\n",
    "        plt.title(year)\n",
    "        plt.xlabel('Month')\n",
    "        plt.ylabel('Inches of Snowfall')\n",
    "        plt.ylim(0, 65)\n",
    "        plt.show()\n",
    "\n",
    "\n",
    "yearly_summary(71, 82, \"Buffalo\")\n",
    "yearly_summary(71, 82, \"Rochester\")\n",
    "\n",
    "\n",
    "\n"
   ]
  },
  {
   "cell_type": "code",
   "execution_count": null,
   "id": "98c24e43",
   "metadata": {},
   "outputs": [],
   "source": []
  }
 ],
 "metadata": {
  "kernelspec": {
   "display_name": "Python 3 (ipykernel)",
   "language": "python",
   "name": "python3"
  },
  "language_info": {
   "codemirror_mode": {
    "name": "ipython",
    "version": 3
   },
   "file_extension": ".py",
   "mimetype": "text/x-python",
   "name": "python",
   "nbconvert_exporter": "python",
   "pygments_lexer": "ipython3",
   "version": "3.9.7"
  }
 },
 "nbformat": 4,
 "nbformat_minor": 5
}
